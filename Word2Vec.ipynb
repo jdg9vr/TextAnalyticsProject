{
 "cells": [
  {
   "attachments": {},
   "cell_type": "markdown",
   "metadata": {},
   "source": [
    "# WORD2VEC NOTEBOOK\n",
    "\n",
    "#### Josh Gen (jdg9vr@virginia.edu) DS 5001 Spring 2023"
   ]
  },
  {
   "cell_type": "code",
   "execution_count": 2,
   "metadata": {},
   "outputs": [],
   "source": [
    "import pandas as pd\n",
    "import numpy as np\n",
    "from gensim.models import word2vec\n",
    "from sklearn.manifold import TSNE\n",
    "import plotly.express as px"
   ]
  },
  {
   "cell_type": "code",
   "execution_count": 3,
   "metadata": {},
   "outputs": [],
   "source": [
    "TOKENS = pd.read_csv('./data/TOKENS.csv', index_col=['company_id', 'link_num', 'sent_num', 'token_num'])\n",
    "VOCAB = pd.read_csv('./data/VOCAB.csv', index_col='term_str')"
   ]
  },
  {
   "cell_type": "code",
   "execution_count": 6,
   "metadata": {},
   "outputs": [],
   "source": [
    "test = TOKENS.loc[(TOKENS['pos'].str.startswith(('VB', 'NN')))]\n",
    "\n",
    "# gensim format for word2vec\n",
    "BAG = ['company_id'] # bag is sent here\n",
    "\n",
    "CORPUS_w2v = test\\\n",
    "    .groupby(BAG)\\\n",
    "    .term_str.apply(lambda  x:  x.tolist())\\\n",
    "    .reset_index()['term_str'].tolist()\n",
    "CORPUS_w2v = [doc for doc in CORPUS_w2v if len(doc) > 1] # Lose single word docs\n",
    "\n",
    "rowling_w2v_params = dict(window = 2,\n",
    "                          vector_size = 256,\n",
    "                          min_count = 80)\n",
    "\n",
    "rowling_model = word2vec.Word2Vec(CORPUS_w2v, **rowling_w2v_params) # by chaps"
   ]
  },
  {
   "cell_type": "code",
   "execution_count": 16,
   "metadata": {},
   "outputs": [],
   "source": [
    "rowling_model.save('./visualization_data/rowling_model.model')"
   ]
  },
  {
   "cell_type": "code",
   "execution_count": 7,
   "metadata": {},
   "outputs": [
    {
     "data": {
      "text/plain": [
       "<gensim.models.word2vec.Word2Vec at 0x7f95cba87730>"
      ]
     },
     "execution_count": 7,
     "metadata": {},
     "output_type": "execute_result"
    }
   ],
   "source": [
    "rowling_model"
   ]
  },
  {
   "cell_type": "code",
   "execution_count": 8,
   "metadata": {},
   "outputs": [],
   "source": [
    "# get coords\n",
    "rowling_coords = pd.DataFrame(\n",
    "    dict(\n",
    "        vector = [rowling_model.wv.get_vector(w) for w in rowling_model.wv.index_to_key], \n",
    "        term_str = list(rowling_model.wv.index_to_key)\n",
    "    )).set_index('term_str')\n",
    "\n",
    "# model building - set new model params if you want\n",
    "learning_rate = 200\n",
    "perplexity = 20\n",
    "n_comps = 2\n",
    "init = 'random'\n",
    "n_iter = 1000\n",
    "rand_state = 42\n",
    "\n",
    "tsne_engine = TSNE(perplexity=perplexity, n_components=n_comps, init=init, n_iter=n_iter, random_state=rand_state)\n",
    "rowling_tsne_model = tsne_engine.fit_transform(np.asarray(rowling_coords.vector.to_list()))\n",
    "\n",
    "rowling_coords['x'] =rowling_tsne_model[:,0]\n",
    "rowling_coords['y'] = rowling_tsne_model[:,1]\n",
    "\n",
    "VOCAB_tsne = pd.merge(VOCAB, rowling_coords, left_index=True, right_index=True)\n",
    "\n",
    "# for visualization, drop stopwords\n",
    "VOCAB_tsne = VOCAB_tsne[VOCAB_tsne.stop == 0]"
   ]
  },
  {
   "cell_type": "code",
   "execution_count": 9,
   "metadata": {},
   "outputs": [
    {
     "data": {
      "text/html": [
       "<div>\n",
       "<style scoped>\n",
       "    .dataframe tbody tr th:only-of-type {\n",
       "        vertical-align: middle;\n",
       "    }\n",
       "\n",
       "    .dataframe tbody tr th {\n",
       "        vertical-align: top;\n",
       "    }\n",
       "\n",
       "    .dataframe thead th {\n",
       "        text-align: right;\n",
       "    }\n",
       "</style>\n",
       "<table border=\"1\" class=\"dataframe\">\n",
       "  <thead>\n",
       "    <tr style=\"text-align: right;\">\n",
       "      <th></th>\n",
       "      <th>vector</th>\n",
       "      <th>x</th>\n",
       "      <th>y</th>\n",
       "    </tr>\n",
       "    <tr>\n",
       "      <th>term_str</th>\n",
       "      <th></th>\n",
       "      <th></th>\n",
       "      <th></th>\n",
       "    </tr>\n",
       "  </thead>\n",
       "  <tbody>\n",
       "    <tr>\n",
       "      <th>quality</th>\n",
       "      <td>[-0.0146646295, -0.13863765, 0.021005685, 0.09...</td>\n",
       "      <td>-8.333534</td>\n",
       "      <td>4.761418</td>\n",
       "    </tr>\n",
       "    <tr>\n",
       "      <th>casting</th>\n",
       "      <td>[-0.036117807, -0.13921943, 0.010448922, 0.085...</td>\n",
       "      <td>-16.346945</td>\n",
       "      <td>0.786622</td>\n",
       "    </tr>\n",
       "    <tr>\n",
       "      <th>products</th>\n",
       "      <td>[-0.005714393, -0.13743775, 0.020179514, 0.083...</td>\n",
       "      <td>2.973101</td>\n",
       "      <td>-2.577197</td>\n",
       "    </tr>\n",
       "    <tr>\n",
       "      <th>castings</th>\n",
       "      <td>[-0.02907663, -0.13700709, 0.011769329, 0.0889...</td>\n",
       "      <td>-16.012167</td>\n",
       "      <td>0.414420</td>\n",
       "    </tr>\n",
       "    <tr>\n",
       "      <th>aluminum</th>\n",
       "      <td>[-0.036465768, -0.12206493, 0.017804531, 0.077...</td>\n",
       "      <td>-19.450926</td>\n",
       "      <td>0.306172</td>\n",
       "    </tr>\n",
       "    <tr>\n",
       "      <th>...</th>\n",
       "      <td>...</td>\n",
       "      <td>...</td>\n",
       "      <td>...</td>\n",
       "    </tr>\n",
       "    <tr>\n",
       "      <th>powder</th>\n",
       "      <td>[-0.008735385, -0.14108025, 0.024057467, 0.094...</td>\n",
       "      <td>-6.914814</td>\n",
       "      <td>0.210390</td>\n",
       "    </tr>\n",
       "    <tr>\n",
       "      <th>touch</th>\n",
       "      <td>[-0.007386874, -0.12329233, 0.030975277, 0.090...</td>\n",
       "      <td>5.920400</td>\n",
       "      <td>6.849392</td>\n",
       "    </tr>\n",
       "    <tr>\n",
       "      <th>titanium</th>\n",
       "      <td>[-0.009455427, -0.14131553, 0.019787958, 0.098...</td>\n",
       "      <td>-12.157339</td>\n",
       "      <td>-6.601217</td>\n",
       "    </tr>\n",
       "    <tr>\n",
       "      <th>resistance</th>\n",
       "      <td>[-0.015976345, -0.13784921, 0.028640041, 0.094...</td>\n",
       "      <td>-12.025945</td>\n",
       "      <td>-5.590615</td>\n",
       "    </tr>\n",
       "    <tr>\n",
       "      <th>learn</th>\n",
       "      <td>[0.034378603, -0.13932255, 0.022951696, 0.0975...</td>\n",
       "      <td>14.028799</td>\n",
       "      <td>1.328831</td>\n",
       "    </tr>\n",
       "  </tbody>\n",
       "</table>\n",
       "<p>155 rows × 3 columns</p>\n",
       "</div>"
      ],
      "text/plain": [
       "                                                       vector          x  \\\n",
       "term_str                                                                   \n",
       "quality     [-0.0146646295, -0.13863765, 0.021005685, 0.09...  -8.333534   \n",
       "casting     [-0.036117807, -0.13921943, 0.010448922, 0.085... -16.346945   \n",
       "products    [-0.005714393, -0.13743775, 0.020179514, 0.083...   2.973101   \n",
       "castings    [-0.02907663, -0.13700709, 0.011769329, 0.0889... -16.012167   \n",
       "aluminum    [-0.036465768, -0.12206493, 0.017804531, 0.077... -19.450926   \n",
       "...                                                       ...        ...   \n",
       "powder      [-0.008735385, -0.14108025, 0.024057467, 0.094...  -6.914814   \n",
       "touch       [-0.007386874, -0.12329233, 0.030975277, 0.090...   5.920400   \n",
       "titanium    [-0.009455427, -0.14131553, 0.019787958, 0.098... -12.157339   \n",
       "resistance  [-0.015976345, -0.13784921, 0.028640041, 0.094... -12.025945   \n",
       "learn       [0.034378603, -0.13932255, 0.022951696, 0.0975...  14.028799   \n",
       "\n",
       "                   y  \n",
       "term_str              \n",
       "quality     4.761418  \n",
       "casting     0.786622  \n",
       "products   -2.577197  \n",
       "castings    0.414420  \n",
       "aluminum    0.306172  \n",
       "...              ...  \n",
       "powder      0.210390  \n",
       "touch       6.849392  \n",
       "titanium   -6.601217  \n",
       "resistance -5.590615  \n",
       "learn       1.328831  \n",
       "\n",
       "[155 rows x 3 columns]"
      ]
     },
     "execution_count": 9,
     "metadata": {},
     "output_type": "execute_result"
    }
   ],
   "source": [
    "rowling_coords"
   ]
  },
  {
   "cell_type": "code",
   "execution_count": 55,
   "metadata": {},
   "outputs": [],
   "source": [
    "VOCAB_tsne.to_csv('./data/VOCAB_tsne.csv')"
   ]
  },
  {
   "cell_type": "code",
   "execution_count": 50,
   "metadata": {},
   "outputs": [
    {
     "data": {
      "text/html": [
       "<div>\n",
       "<style scoped>\n",
       "    .dataframe tbody tr th:only-of-type {\n",
       "        vertical-align: middle;\n",
       "    }\n",
       "\n",
       "    .dataframe tbody tr th {\n",
       "        vertical-align: top;\n",
       "    }\n",
       "\n",
       "    .dataframe thead th {\n",
       "        text-align: right;\n",
       "    }\n",
       "</style>\n",
       "<table border=\"1\" class=\"dataframe\">\n",
       "  <thead>\n",
       "    <tr style=\"text-align: right;\">\n",
       "      <th></th>\n",
       "      <th>n</th>\n",
       "      <th>p</th>\n",
       "      <th>i</th>\n",
       "      <th>n_chars</th>\n",
       "      <th>max_pos</th>\n",
       "      <th>n_pos</th>\n",
       "      <th>cat_pos</th>\n",
       "      <th>stop</th>\n",
       "      <th>dfidf</th>\n",
       "      <th>mean_tfidf</th>\n",
       "      <th>vector</th>\n",
       "      <th>x</th>\n",
       "      <th>y</th>\n",
       "    </tr>\n",
       "    <tr>\n",
       "      <th>term_str</th>\n",
       "      <th></th>\n",
       "      <th></th>\n",
       "      <th></th>\n",
       "      <th></th>\n",
       "      <th></th>\n",
       "      <th></th>\n",
       "      <th></th>\n",
       "      <th></th>\n",
       "      <th></th>\n",
       "      <th></th>\n",
       "      <th></th>\n",
       "      <th></th>\n",
       "      <th></th>\n",
       "    </tr>\n",
       "  </thead>\n",
       "  <tbody>\n",
       "    <tr>\n",
       "      <th>quality</th>\n",
       "      <td>747</td>\n",
       "      <td>0.009743</td>\n",
       "      <td>6.681354</td>\n",
       "      <td>7</td>\n",
       "      <td>NN</td>\n",
       "      <td>2</td>\n",
       "      <td>{'NNP', 'NN'}</td>\n",
       "      <td>0</td>\n",
       "      <td>10.947234</td>\n",
       "      <td>0.019094</td>\n",
       "      <td>[-0.047723144, -0.14348537, 0.006091879, 0.067...</td>\n",
       "      <td>-6.041846</td>\n",
       "      <td>5.582057</td>\n",
       "    </tr>\n",
       "    <tr>\n",
       "      <th>casting</th>\n",
       "      <td>721</td>\n",
       "      <td>0.009404</td>\n",
       "      <td>6.732463</td>\n",
       "      <td>7</td>\n",
       "      <td>NNP</td>\n",
       "      <td>2</td>\n",
       "      <td>{'NN', 'NNP'}</td>\n",
       "      <td>0</td>\n",
       "      <td>23.363600</td>\n",
       "      <td>0.059843</td>\n",
       "      <td>[-0.070645384, -0.14479819, -0.0047444934, 0.0...</td>\n",
       "      <td>-13.957783</td>\n",
       "      <td>6.768412</td>\n",
       "    </tr>\n",
       "    <tr>\n",
       "      <th>products</th>\n",
       "      <td>668</td>\n",
       "      <td>0.008713</td>\n",
       "      <td>6.842614</td>\n",
       "      <td>8</td>\n",
       "      <td>NNS</td>\n",
       "      <td>3</td>\n",
       "      <td>{'NNS', 'NNP', 'NNPS'}</td>\n",
       "      <td>0</td>\n",
       "      <td>14.515279</td>\n",
       "      <td>0.022575</td>\n",
       "      <td>[-0.041239113, -0.14903277, 0.010228972, 0.065...</td>\n",
       "      <td>0.773703</td>\n",
       "      <td>1.298489</td>\n",
       "    </tr>\n",
       "    <tr>\n",
       "      <th>castings</th>\n",
       "      <td>510</td>\n",
       "      <td>0.006652</td>\n",
       "      <td>7.231965</td>\n",
       "      <td>8</td>\n",
       "      <td>NNS</td>\n",
       "      <td>3</td>\n",
       "      <td>{'NNS', 'NNPS', 'NNP'}</td>\n",
       "      <td>0</td>\n",
       "      <td>23.789373</td>\n",
       "      <td>0.052503</td>\n",
       "      <td>[-0.06112058, -0.15033749, -0.0015458427, 0.06...</td>\n",
       "      <td>-14.461075</td>\n",
       "      <td>3.122146</td>\n",
       "    </tr>\n",
       "    <tr>\n",
       "      <th>aluminum</th>\n",
       "      <td>476</td>\n",
       "      <td>0.006209</td>\n",
       "      <td>7.331500</td>\n",
       "      <td>8</td>\n",
       "      <td>NNP</td>\n",
       "      <td>2</td>\n",
       "      <td>{'NN', 'NNP'}</td>\n",
       "      <td>0</td>\n",
       "      <td>23.674322</td>\n",
       "      <td>0.042434</td>\n",
       "      <td>[-0.06906438, -0.13637207, 0.003292611, 0.0593...</td>\n",
       "      <td>-15.091912</td>\n",
       "      <td>7.615201</td>\n",
       "    </tr>\n",
       "  </tbody>\n",
       "</table>\n",
       "</div>"
      ],
      "text/plain": [
       "            n         p         i  n_chars max_pos  n_pos  \\\n",
       "term_str                                                    \n",
       "quality   747  0.009743  6.681354        7      NN      2   \n",
       "casting   721  0.009404  6.732463        7     NNP      2   \n",
       "products  668  0.008713  6.842614        8     NNS      3   \n",
       "castings  510  0.006652  7.231965        8     NNS      3   \n",
       "aluminum  476  0.006209  7.331500        8     NNP      2   \n",
       "\n",
       "                         cat_pos  stop      dfidf  mean_tfidf  \\\n",
       "term_str                                                        \n",
       "quality            {'NNP', 'NN'}     0  10.947234    0.019094   \n",
       "casting            {'NN', 'NNP'}     0  23.363600    0.059843   \n",
       "products  {'NNS', 'NNP', 'NNPS'}     0  14.515279    0.022575   \n",
       "castings  {'NNS', 'NNPS', 'NNP'}     0  23.789373    0.052503   \n",
       "aluminum           {'NN', 'NNP'}     0  23.674322    0.042434   \n",
       "\n",
       "                                                     vector          x  \\\n",
       "term_str                                                                 \n",
       "quality   [-0.047723144, -0.14348537, 0.006091879, 0.067...  -6.041846   \n",
       "casting   [-0.070645384, -0.14479819, -0.0047444934, 0.0... -13.957783   \n",
       "products  [-0.041239113, -0.14903277, 0.010228972, 0.065...   0.773703   \n",
       "castings  [-0.06112058, -0.15033749, -0.0015458427, 0.06... -14.461075   \n",
       "aluminum  [-0.06906438, -0.13637207, 0.003292611, 0.0593... -15.091912   \n",
       "\n",
       "                 y  \n",
       "term_str            \n",
       "quality   5.582057  \n",
       "casting   6.768412  \n",
       "products  1.298489  \n",
       "castings  3.122146  \n",
       "aluminum  7.615201  "
      ]
     },
     "execution_count": 50,
     "metadata": {},
     "output_type": "execute_result"
    }
   ],
   "source": [
    "VOCAB_tsne.head()"
   ]
  },
  {
   "cell_type": "code",
   "execution_count": 29,
   "metadata": {},
   "outputs": [
    {
     "data": {
      "application/vnd.plotly.v1+json": {
       "config": {
        "plotlyServerURL": "https://plot.ly"
       },
       "data": [
        {
         "hovertemplate": "<b>%{hovertext}</b><br><br>x=%{x}<br>y=%{y}<br>term_str=%{text}<extra></extra>",
         "hovertext": [
          "quality",
          "casting",
          "products",
          "castings",
          "aluminum",
          "contact",
          "services",
          "product",
          "com",
          "company",
          "customers",
          "information",
          "industry",
          "design",
          "metal",
          "alloys",
          "process",
          "manufacturing",
          "die",
          "service",
          "us",
          "years",
          "parts",
          "industries",
          "inc",
          "sand",
          "production",
          "machining",
          "foundry",
          "team",
          "sales",
          "customer",
          "cast",
          "site",
          "precision",
          "time",
          "solutions",
          "brass",
          "rights",
          "bronze",
          "components",
          "business",
          "steel",
          "experience",
          "capabilities",
          "zinc",
          "email",
          "equipment",
          "use",
          "applications",
          "engineering",
          "system",
          "cookies",
          "needs",
          "part",
          "machine",
          "aerospace",
          "address",
          "range",
          "details",
          "facility",
          "alloy",
          "cnc",
          "materials",
          "systems",
          "machines",
          "copper",
          "phone",
          "work",
          "copyright",
          "world",
          "requirements",
          "quote",
          "data",
          "anodes",
          "material",
          "web",
          "control",
          "magnets",
          "tool",
          "privacy",
          "technology",
          "â",
          "get",
          "terms",
          "metals",
          "please",
          "mold",
          "policy",
          "website",
          "order",
          "today",
          "name",
          "australia",
          "bearing",
          "ltd",
          "operations",
          "custom",
          "application",
          "molding",
          "development",
          "info",
          "specifications",
          "lee",
          "manufacturer",
          "bearings",
          "core",
          "form",
          "job",
          "general",
          "click",
          "markets",
          "tooling",
          "heat",
          "project",
          "new",
          "cost",
          "art",
          "management",
          "processes",
          "delivery",
          "strength",
          "pressure",
          "supplier",
          "standards",
          "line",
          "fax",
          "iso",
          "home",
          "facilities",
          "size",
          "clients",
          "variety",
          "investment",
          "value",
          "companies",
          "people",
          "box",
          "shop",
          "iron",
          "solution",
          "co",
          "links",
          "plating",
          "call",
          "spartan",
          "pattern",
          "voss",
          "powder",
          "touch",
          "titanium",
          "learn",
          "resistance"
         ],
         "legendgroup": "",
         "marker": {
          "color": "#636efa",
          "symbol": "circle"
         },
         "mode": "markers+text",
         "name": "",
         "orientation": "v",
         "showlegend": false,
         "text": [
          "quality",
          "casting",
          "products",
          "castings",
          "aluminum",
          "contact",
          "services",
          "product",
          "com",
          "company",
          "customers",
          "information",
          "industry",
          "design",
          "metal",
          "alloys",
          "process",
          "manufacturing",
          "die",
          "service",
          "us",
          "years",
          "parts",
          "industries",
          "inc",
          "sand",
          "production",
          "machining",
          "foundry",
          "team",
          "sales",
          "customer",
          "cast",
          "site",
          "precision",
          "time",
          "solutions",
          "brass",
          "rights",
          "bronze",
          "components",
          "business",
          "steel",
          "experience",
          "capabilities",
          "zinc",
          "email",
          "equipment",
          "use",
          "applications",
          "engineering",
          "system",
          "cookies",
          "needs",
          "part",
          "machine",
          "aerospace",
          "address",
          "range",
          "details",
          "facility",
          "alloy",
          "cnc",
          "materials",
          "systems",
          "machines",
          "copper",
          "phone",
          "work",
          "copyright",
          "world",
          "requirements",
          "quote",
          "data",
          "anodes",
          "material",
          "web",
          "control",
          "magnets",
          "tool",
          "privacy",
          "technology",
          "â",
          "get",
          "terms",
          "metals",
          "please",
          "mold",
          "policy",
          "website",
          "order",
          "today",
          "name",
          "australia",
          "bearing",
          "ltd",
          "operations",
          "custom",
          "application",
          "molding",
          "development",
          "info",
          "specifications",
          "lee",
          "manufacturer",
          "bearings",
          "core",
          "form",
          "job",
          "general",
          "click",
          "markets",
          "tooling",
          "heat",
          "project",
          "new",
          "cost",
          "art",
          "management",
          "processes",
          "delivery",
          "strength",
          "pressure",
          "supplier",
          "standards",
          "line",
          "fax",
          "iso",
          "home",
          "facilities",
          "size",
          "clients",
          "variety",
          "investment",
          "value",
          "companies",
          "people",
          "box",
          "shop",
          "iron",
          "solution",
          "co",
          "links",
          "plating",
          "call",
          "spartan",
          "pattern",
          "voss",
          "powder",
          "touch",
          "titanium",
          "learn",
          "resistance"
         ],
         "textfont": {
          "color": "black",
          "family": "Arial",
          "size": 14
         },
         "textposition": "top center",
         "type": "scatter",
         "x": [
          -6.04184627532959,
          -13.957782745361328,
          0.7737028002738953,
          -14.461074829101562,
          -15.091912269592285,
          14.27347183227539,
          9.81535816192627,
          4.086925029754639,
          16.55790901184082,
          0.6991947293281555,
          -0.7123979330062866,
          18.914350509643555,
          -5.315732002258301,
          1.3127471208572388,
          -10.995684623718262,
          -16.042083740234375,
          -11.687620162963867,
          -0.872044563293457,
          -14.126806259155273,
          10.728775978088379,
          14.631831169128418,
          -5.329267978668213,
          -10.392770767211914,
          8.52459716796875,
          8.997136116027832,
          -16.172941207885742,
          -9.642995834350586,
          -7.107516288757324,
          -13.562026023864746,
          -0.05838992819190025,
          8.23936939239502,
          1.8986244201660156,
          -14.910591125488281,
          18.306974411010742,
          -2.05454421043396,
          8.903024673461914,
          -2.7266592979431152,
          -16.344114303588867,
          12.642464637756348,
          -16.49506187438965,
          -8.7960205078125,
          2.142786741256714,
          -10.263182640075684,
          -2.121520757675171,
          -6.126114368438721,
          -15.594548225402832,
          17.105201721191406,
          -9.37250804901123,
          19.158533096313477,
          -9.882599830627441,
          -2.0308961868286133,
          -5.39135217666626,
          20.373933792114258,
          -3.4159157276153564,
          -7.184865474700928,
          -10.144579887390137,
          -0.49006909132003784,
          17.254985809326172,
          -9.711408615112305,
          4.096336841583252,
          -5.917239189147949,
          -12.283162117004395,
          -8.043194770812988,
          -1.6851022243499756,
          0.2638263404369354,
          -11.196733474731445,
          -15.998026847839355,
          13.14173412322998,
          -1.2747472524642944,
          8.770018577575684,
          -0.8185611963272095,
          0.5363589525222778,
          12.50367546081543,
          19.89250946044922,
          -15.490891456604004,
          -11.13615894317627,
          17.606201171875,
          -5.157360553741455,
          -9.897141456604004,
          -7.594308853149414,
          17.543048858642578,
          -2.017876625061035,
          7.925675392150879,
          9.36164665222168,
          18.358867645263672,
          -10.210383415222168,
          14.28805923461914,
          -13.840235710144043,
          14.261025428771973,
          18.78092384338379,
          2.7727463245391846,
          2.78635311126709,
          16.491107940673828,
          9.703644752502441,
          -5.28743839263916,
          6.9793477058410645,
          -2.9553823471069336,
          -5.578001499176025,
          -5.191864967346191,
          -12.998597145080566,
          0.023540843278169632,
          12.780660629272461,
          0.22644363343715668,
          5.459937572479248,
          -3.21981143951416,
          -5.147629261016846,
          -11.767284393310547,
          12.939300537109375,
          5.628479480743408,
          6.174319267272949,
          11.700976371765137,
          2.459808826446533,
          -7.630394458770752,
          -11.935341835021973,
          0.6919584274291992,
          -2.4537875652313232,
          -7.677917003631592,
          2.4082367420196533,
          -3.248473882675171,
          -8.418519020080566,
          -2.0324974060058594,
          -10.01282024383545,
          -13.656684875488281,
          -3.7633941173553467,
          -5.957231044769287,
          -6.248637676239014,
          12.262524604797363,
          -4.642266273498535,
          3.7420690059661865,
          -3.4458775520324707,
          -8.72301197052002,
          -1.175398826599121,
          -3.135033369064331,
          -8.039565086364746,
          -2.6501662731170654,
          1.9206132888793945,
          -4.935573101043701,
          12.426356315612793,
          -6.923921585083008,
          -13.20492935180664,
          -4.9623823165893555,
          5.10145902633667,
          11.941118240356445,
          -6.772727966308594,
          10.415427207946777,
          -2.7717206478118896,
          -11.02492618560791,
          -2.2477500438690186,
          -7.894887924194336,
          9.539133071899414,
          -11.206912994384766,
          13.161114692687988,
          -11.843134880065918
         ],
         "xaxis": "x",
         "y": [
          5.582056999206543,
          6.768411636352539,
          1.298488736152649,
          3.1221461296081543,
          7.615200996398926,
          -0.6626012325286865,
          -3.748307228088379,
          10.513035774230957,
          -1.2891020774841309,
          7.151636123657227,
          8.780750274658203,
          -4.408946990966797,
          3.781034469604492,
          -3.3292465209960938,
          7.263200759887695,
          8.243119239807129,
          6.274069309234619,
          5.204486846923828,
          7.756821155548096,
          -3.8393402099609375,
          0.12756681442260742,
          3.468545913696289,
          6.435009479522705,
          -1.6536662578582764,
          -1.8192905187606812,
          4.730572700500488,
          4.001152515411377,
          8.756049156188965,
          -2.4232757091522217,
          4.233510494232178,
          -7.010312080383301,
          5.4076032638549805,
          5.115546703338623,
          -5.829906463623047,
          -2.2521657943725586,
          -3.7958385944366455,
          2.316995620727539,
          -0.300951212644577,
          -2.154414176940918,
          2.2304553985595703,
          6.662346363067627,
          2.5332705974578857,
          -6.313113212585449,
          8.994489669799805,
          -4.020528793334961,
          8.559842109680176,
          0.9773632287979126,
          2.013887643814087,
          -6.129462718963623,
          -2.8628783226013184,
          7.328440189361572,
          0.4080248177051544,
          -6.232475280761719,
          6.625447750091553,
          -3.425213098526001,
          3.1045138835906982,
          -4.897014141082764,
          0.25807279348373413,
          -2.4187424182891846,
          10.513618469238281,
          -2.640162229537964,
          -4.844731330871582,
          9.593504905700684,
          -0.0013112813467159867,
          3.1674463748931885,
          4.409172058105469,
          -0.5279834270477295,
          2.30120849609375,
          2.074091911315918,
          0.6168100833892822,
          -3.252211332321167,
          -1.1210377216339111,
          1.1546645164489746,
          -4.972110748291016,
          -4.801074504852295,
          -4.9352264404296875,
          -5.678921222686768,
          1.9389421939849854,
          -9.273463249206543,
          1.127885103225708,
          -4.51682186126709,
          3.546091318130493,
          -7.764826774597168,
          4.191754341125488,
          -6.789393901824951,
          -4.569767951965332,
          -1.6691428422927856,
          1.8858113288879395,
          -3.3864922523498535,
          -5.104348659515381,
          -1.8552216291427612,
          0.10208522528409958,
          0.1550023853778839,
          3.557978391647339,
          -10.937582969665527,
          -0.6336272954940796,
          7.466100215911865,
          7.302122592926025,
          -10.003549575805664,
          2.6905019283294678,
          5.822010517120361,
          -0.8838077783584595,
          -0.552037239074707,
          -3.9386837482452393,
          9.687973022460938,
          -9.455496788024902,
          1.5280131101608276,
          0.44956979155540466,
          2.038600444793701,
          1.401461124420166,
          0.6731036305427551,
          1.3571596145629883,
          0.6146425008773804,
          0.556125283241272,
          -2.0339348316192627,
          -7.876018524169922,
          4.489670276641846,
          -6.747360706329346,
          3.1791536808013916,
          3.7410454750061035,
          5.669973850250244,
          -8.591876029968262,
          1.1179149150848389,
          -3.3278872966766357,
          -1.441176414489746,
          -6.921496868133545,
          2.58994722366333,
          -3.3498644828796387,
          2.44942307472229,
          5.0378265380859375,
          -7.551638603210449,
          6.497064590454102,
          0.05574960261583328,
          -1.9319498538970947,
          5.767202854156494,
          -0.9881352782249451,
          -5.7019782066345215,
          3.3989036083221436,
          -4.202986717224121,
          -1.286982536315918,
          -6.907425403594971,
          -0.39508599042892456,
          -1.2530632019042969,
          -8.510287284851074,
          -0.46987980604171753,
          -4.231598854064941,
          1.8425918817520142,
          -9.05038833618164,
          -5.3254075050354,
          3.0466129779815674,
          -2.430605173110962,
          -4.349627494812012,
          -5.652299404144287
         ],
         "yaxis": "y"
        }
       ],
       "layout": {
        "height": 1000,
        "legend": {
         "tracegroupgap": 0
        },
        "template": {
         "data": {
          "bar": [
           {
            "error_x": {
             "color": "#2a3f5f"
            },
            "error_y": {
             "color": "#2a3f5f"
            },
            "marker": {
             "line": {
              "color": "#E5ECF6",
              "width": 0.5
             },
             "pattern": {
              "fillmode": "overlay",
              "size": 10,
              "solidity": 0.2
             }
            },
            "type": "bar"
           }
          ],
          "barpolar": [
           {
            "marker": {
             "line": {
              "color": "#E5ECF6",
              "width": 0.5
             },
             "pattern": {
              "fillmode": "overlay",
              "size": 10,
              "solidity": 0.2
             }
            },
            "type": "barpolar"
           }
          ],
          "carpet": [
           {
            "aaxis": {
             "endlinecolor": "#2a3f5f",
             "gridcolor": "white",
             "linecolor": "white",
             "minorgridcolor": "white",
             "startlinecolor": "#2a3f5f"
            },
            "baxis": {
             "endlinecolor": "#2a3f5f",
             "gridcolor": "white",
             "linecolor": "white",
             "minorgridcolor": "white",
             "startlinecolor": "#2a3f5f"
            },
            "type": "carpet"
           }
          ],
          "choropleth": [
           {
            "colorbar": {
             "outlinewidth": 0,
             "ticks": ""
            },
            "type": "choropleth"
           }
          ],
          "contour": [
           {
            "colorbar": {
             "outlinewidth": 0,
             "ticks": ""
            },
            "colorscale": [
             [
              0,
              "#0d0887"
             ],
             [
              0.1111111111111111,
              "#46039f"
             ],
             [
              0.2222222222222222,
              "#7201a8"
             ],
             [
              0.3333333333333333,
              "#9c179e"
             ],
             [
              0.4444444444444444,
              "#bd3786"
             ],
             [
              0.5555555555555556,
              "#d8576b"
             ],
             [
              0.6666666666666666,
              "#ed7953"
             ],
             [
              0.7777777777777778,
              "#fb9f3a"
             ],
             [
              0.8888888888888888,
              "#fdca26"
             ],
             [
              1,
              "#f0f921"
             ]
            ],
            "type": "contour"
           }
          ],
          "contourcarpet": [
           {
            "colorbar": {
             "outlinewidth": 0,
             "ticks": ""
            },
            "type": "contourcarpet"
           }
          ],
          "heatmap": [
           {
            "colorbar": {
             "outlinewidth": 0,
             "ticks": ""
            },
            "colorscale": [
             [
              0,
              "#0d0887"
             ],
             [
              0.1111111111111111,
              "#46039f"
             ],
             [
              0.2222222222222222,
              "#7201a8"
             ],
             [
              0.3333333333333333,
              "#9c179e"
             ],
             [
              0.4444444444444444,
              "#bd3786"
             ],
             [
              0.5555555555555556,
              "#d8576b"
             ],
             [
              0.6666666666666666,
              "#ed7953"
             ],
             [
              0.7777777777777778,
              "#fb9f3a"
             ],
             [
              0.8888888888888888,
              "#fdca26"
             ],
             [
              1,
              "#f0f921"
             ]
            ],
            "type": "heatmap"
           }
          ],
          "heatmapgl": [
           {
            "colorbar": {
             "outlinewidth": 0,
             "ticks": ""
            },
            "colorscale": [
             [
              0,
              "#0d0887"
             ],
             [
              0.1111111111111111,
              "#46039f"
             ],
             [
              0.2222222222222222,
              "#7201a8"
             ],
             [
              0.3333333333333333,
              "#9c179e"
             ],
             [
              0.4444444444444444,
              "#bd3786"
             ],
             [
              0.5555555555555556,
              "#d8576b"
             ],
             [
              0.6666666666666666,
              "#ed7953"
             ],
             [
              0.7777777777777778,
              "#fb9f3a"
             ],
             [
              0.8888888888888888,
              "#fdca26"
             ],
             [
              1,
              "#f0f921"
             ]
            ],
            "type": "heatmapgl"
           }
          ],
          "histogram": [
           {
            "marker": {
             "pattern": {
              "fillmode": "overlay",
              "size": 10,
              "solidity": 0.2
             }
            },
            "type": "histogram"
           }
          ],
          "histogram2d": [
           {
            "colorbar": {
             "outlinewidth": 0,
             "ticks": ""
            },
            "colorscale": [
             [
              0,
              "#0d0887"
             ],
             [
              0.1111111111111111,
              "#46039f"
             ],
             [
              0.2222222222222222,
              "#7201a8"
             ],
             [
              0.3333333333333333,
              "#9c179e"
             ],
             [
              0.4444444444444444,
              "#bd3786"
             ],
             [
              0.5555555555555556,
              "#d8576b"
             ],
             [
              0.6666666666666666,
              "#ed7953"
             ],
             [
              0.7777777777777778,
              "#fb9f3a"
             ],
             [
              0.8888888888888888,
              "#fdca26"
             ],
             [
              1,
              "#f0f921"
             ]
            ],
            "type": "histogram2d"
           }
          ],
          "histogram2dcontour": [
           {
            "colorbar": {
             "outlinewidth": 0,
             "ticks": ""
            },
            "colorscale": [
             [
              0,
              "#0d0887"
             ],
             [
              0.1111111111111111,
              "#46039f"
             ],
             [
              0.2222222222222222,
              "#7201a8"
             ],
             [
              0.3333333333333333,
              "#9c179e"
             ],
             [
              0.4444444444444444,
              "#bd3786"
             ],
             [
              0.5555555555555556,
              "#d8576b"
             ],
             [
              0.6666666666666666,
              "#ed7953"
             ],
             [
              0.7777777777777778,
              "#fb9f3a"
             ],
             [
              0.8888888888888888,
              "#fdca26"
             ],
             [
              1,
              "#f0f921"
             ]
            ],
            "type": "histogram2dcontour"
           }
          ],
          "mesh3d": [
           {
            "colorbar": {
             "outlinewidth": 0,
             "ticks": ""
            },
            "type": "mesh3d"
           }
          ],
          "parcoords": [
           {
            "line": {
             "colorbar": {
              "outlinewidth": 0,
              "ticks": ""
             }
            },
            "type": "parcoords"
           }
          ],
          "pie": [
           {
            "automargin": true,
            "type": "pie"
           }
          ],
          "scatter": [
           {
            "fillpattern": {
             "fillmode": "overlay",
             "size": 10,
             "solidity": 0.2
            },
            "type": "scatter"
           }
          ],
          "scatter3d": [
           {
            "line": {
             "colorbar": {
              "outlinewidth": 0,
              "ticks": ""
             }
            },
            "marker": {
             "colorbar": {
              "outlinewidth": 0,
              "ticks": ""
             }
            },
            "type": "scatter3d"
           }
          ],
          "scattercarpet": [
           {
            "marker": {
             "colorbar": {
              "outlinewidth": 0,
              "ticks": ""
             }
            },
            "type": "scattercarpet"
           }
          ],
          "scattergeo": [
           {
            "marker": {
             "colorbar": {
              "outlinewidth": 0,
              "ticks": ""
             }
            },
            "type": "scattergeo"
           }
          ],
          "scattergl": [
           {
            "marker": {
             "colorbar": {
              "outlinewidth": 0,
              "ticks": ""
             }
            },
            "type": "scattergl"
           }
          ],
          "scattermapbox": [
           {
            "marker": {
             "colorbar": {
              "outlinewidth": 0,
              "ticks": ""
             }
            },
            "type": "scattermapbox"
           }
          ],
          "scatterpolar": [
           {
            "marker": {
             "colorbar": {
              "outlinewidth": 0,
              "ticks": ""
             }
            },
            "type": "scatterpolar"
           }
          ],
          "scatterpolargl": [
           {
            "marker": {
             "colorbar": {
              "outlinewidth": 0,
              "ticks": ""
             }
            },
            "type": "scatterpolargl"
           }
          ],
          "scatterternary": [
           {
            "marker": {
             "colorbar": {
              "outlinewidth": 0,
              "ticks": ""
             }
            },
            "type": "scatterternary"
           }
          ],
          "surface": [
           {
            "colorbar": {
             "outlinewidth": 0,
             "ticks": ""
            },
            "colorscale": [
             [
              0,
              "#0d0887"
             ],
             [
              0.1111111111111111,
              "#46039f"
             ],
             [
              0.2222222222222222,
              "#7201a8"
             ],
             [
              0.3333333333333333,
              "#9c179e"
             ],
             [
              0.4444444444444444,
              "#bd3786"
             ],
             [
              0.5555555555555556,
              "#d8576b"
             ],
             [
              0.6666666666666666,
              "#ed7953"
             ],
             [
              0.7777777777777778,
              "#fb9f3a"
             ],
             [
              0.8888888888888888,
              "#fdca26"
             ],
             [
              1,
              "#f0f921"
             ]
            ],
            "type": "surface"
           }
          ],
          "table": [
           {
            "cells": {
             "fill": {
              "color": "#EBF0F8"
             },
             "line": {
              "color": "white"
             }
            },
            "header": {
             "fill": {
              "color": "#C8D4E3"
             },
             "line": {
              "color": "white"
             }
            },
            "type": "table"
           }
          ]
         },
         "layout": {
          "annotationdefaults": {
           "arrowcolor": "#2a3f5f",
           "arrowhead": 0,
           "arrowwidth": 1
          },
          "autotypenumbers": "strict",
          "coloraxis": {
           "colorbar": {
            "outlinewidth": 0,
            "ticks": ""
           }
          },
          "colorscale": {
           "diverging": [
            [
             0,
             "#8e0152"
            ],
            [
             0.1,
             "#c51b7d"
            ],
            [
             0.2,
             "#de77ae"
            ],
            [
             0.3,
             "#f1b6da"
            ],
            [
             0.4,
             "#fde0ef"
            ],
            [
             0.5,
             "#f7f7f7"
            ],
            [
             0.6,
             "#e6f5d0"
            ],
            [
             0.7,
             "#b8e186"
            ],
            [
             0.8,
             "#7fbc41"
            ],
            [
             0.9,
             "#4d9221"
            ],
            [
             1,
             "#276419"
            ]
           ],
           "sequential": [
            [
             0,
             "#0d0887"
            ],
            [
             0.1111111111111111,
             "#46039f"
            ],
            [
             0.2222222222222222,
             "#7201a8"
            ],
            [
             0.3333333333333333,
             "#9c179e"
            ],
            [
             0.4444444444444444,
             "#bd3786"
            ],
            [
             0.5555555555555556,
             "#d8576b"
            ],
            [
             0.6666666666666666,
             "#ed7953"
            ],
            [
             0.7777777777777778,
             "#fb9f3a"
            ],
            [
             0.8888888888888888,
             "#fdca26"
            ],
            [
             1,
             "#f0f921"
            ]
           ],
           "sequentialminus": [
            [
             0,
             "#0d0887"
            ],
            [
             0.1111111111111111,
             "#46039f"
            ],
            [
             0.2222222222222222,
             "#7201a8"
            ],
            [
             0.3333333333333333,
             "#9c179e"
            ],
            [
             0.4444444444444444,
             "#bd3786"
            ],
            [
             0.5555555555555556,
             "#d8576b"
            ],
            [
             0.6666666666666666,
             "#ed7953"
            ],
            [
             0.7777777777777778,
             "#fb9f3a"
            ],
            [
             0.8888888888888888,
             "#fdca26"
            ],
            [
             1,
             "#f0f921"
            ]
           ]
          },
          "colorway": [
           "#636efa",
           "#EF553B",
           "#00cc96",
           "#ab63fa",
           "#FFA15A",
           "#19d3f3",
           "#FF6692",
           "#B6E880",
           "#FF97FF",
           "#FECB52"
          ],
          "font": {
           "color": "#2a3f5f"
          },
          "geo": {
           "bgcolor": "white",
           "lakecolor": "white",
           "landcolor": "#E5ECF6",
           "showlakes": true,
           "showland": true,
           "subunitcolor": "white"
          },
          "hoverlabel": {
           "align": "left"
          },
          "hovermode": "closest",
          "mapbox": {
           "style": "light"
          },
          "paper_bgcolor": "white",
          "plot_bgcolor": "#E5ECF6",
          "polar": {
           "angularaxis": {
            "gridcolor": "white",
            "linecolor": "white",
            "ticks": ""
           },
           "bgcolor": "#E5ECF6",
           "radialaxis": {
            "gridcolor": "white",
            "linecolor": "white",
            "ticks": ""
           }
          },
          "scene": {
           "xaxis": {
            "backgroundcolor": "#E5ECF6",
            "gridcolor": "white",
            "gridwidth": 2,
            "linecolor": "white",
            "showbackground": true,
            "ticks": "",
            "zerolinecolor": "white"
           },
           "yaxis": {
            "backgroundcolor": "#E5ECF6",
            "gridcolor": "white",
            "gridwidth": 2,
            "linecolor": "white",
            "showbackground": true,
            "ticks": "",
            "zerolinecolor": "white"
           },
           "zaxis": {
            "backgroundcolor": "#E5ECF6",
            "gridcolor": "white",
            "gridwidth": 2,
            "linecolor": "white",
            "showbackground": true,
            "ticks": "",
            "zerolinecolor": "white"
           }
          },
          "shapedefaults": {
           "line": {
            "color": "#2a3f5f"
           }
          },
          "ternary": {
           "aaxis": {
            "gridcolor": "white",
            "linecolor": "white",
            "ticks": ""
           },
           "baxis": {
            "gridcolor": "white",
            "linecolor": "white",
            "ticks": ""
           },
           "bgcolor": "#E5ECF6",
           "caxis": {
            "gridcolor": "white",
            "linecolor": "white",
            "ticks": ""
           }
          },
          "title": {
           "x": 0.05
          },
          "xaxis": {
           "automargin": true,
           "gridcolor": "white",
           "linecolor": "white",
           "ticks": "",
           "title": {
            "standoff": 15
           },
           "zerolinecolor": "white",
           "zerolinewidth": 2
          },
          "yaxis": {
           "automargin": true,
           "gridcolor": "white",
           "linecolor": "white",
           "ticks": "",
           "title": {
            "standoff": 15
           },
           "zerolinecolor": "white",
           "zerolinewidth": 2
          }
         }
        },
        "title": {
         "text": "Rowling tSNE"
        },
        "xaxis": {
         "anchor": "y",
         "domain": [
          0,
          1
         ],
         "title": {
          "text": "x"
         }
        },
        "yaxis": {
         "anchor": "x",
         "domain": [
          0,
          1
         ],
         "title": {
          "text": "y"
         }
        }
       }
      }
     },
     "metadata": {},
     "output_type": "display_data"
    }
   ],
   "source": [
    "# plot rowling\n",
    "px.scatter(VOCAB_tsne.reset_index(), 'x', 'y', title = 'Rowling tSNE',\n",
    "           text='term_str',  \n",
    "           hover_name='term_str',          \n",
    "           height=1000).update_traces(\n",
    "                mode='markers+text', \n",
    "                textfont=dict(color='black', size=14, family='Arial'),\n",
    "                textposition='top center')"
   ]
  },
  {
   "cell_type": "code",
   "execution_count": 10,
   "metadata": {},
   "outputs": [],
   "source": [
    "def complete_analogy(A, B, C, model, n=2):\n",
    "    cols = ['term', 'sim']\n",
    "    return pd.DataFrame(model.wv.most_similar(positive=[B, C], negative=[A])[0:n], columns=cols)\n",
    "\n",
    "def get_most_similar(positive, model, negative=None):\n",
    "    return pd.DataFrame(model.wv.most_similar(positive, negative), columns=['term', 'sim'])"
   ]
  },
  {
   "cell_type": "code",
   "execution_count": 14,
   "metadata": {},
   "outputs": [
    {
     "data": {
      "text/html": [
       "<div>\n",
       "<style scoped>\n",
       "    .dataframe tbody tr th:only-of-type {\n",
       "        vertical-align: middle;\n",
       "    }\n",
       "\n",
       "    .dataframe tbody tr th {\n",
       "        vertical-align: top;\n",
       "    }\n",
       "\n",
       "    .dataframe thead th {\n",
       "        text-align: right;\n",
       "    }\n",
       "</style>\n",
       "<table border=\"1\" class=\"dataframe\">\n",
       "  <thead>\n",
       "    <tr style=\"text-align: right;\">\n",
       "      <th></th>\n",
       "      <th>term</th>\n",
       "      <th>sim</th>\n",
       "    </tr>\n",
       "  </thead>\n",
       "  <tbody>\n",
       "    <tr>\n",
       "      <th>0</th>\n",
       "      <td>use</td>\n",
       "      <td>0.991016</td>\n",
       "    </tr>\n",
       "    <tr>\n",
       "      <th>1</th>\n",
       "      <td>site</td>\n",
       "      <td>0.989835</td>\n",
       "    </tr>\n",
       "    <tr>\n",
       "      <th>2</th>\n",
       "      <td>information</td>\n",
       "      <td>0.987346</td>\n",
       "    </tr>\n",
       "    <tr>\n",
       "      <th>3</th>\n",
       "      <td>website</td>\n",
       "      <td>0.987052</td>\n",
       "    </tr>\n",
       "    <tr>\n",
       "      <th>4</th>\n",
       "      <td>web</td>\n",
       "      <td>0.986639</td>\n",
       "    </tr>\n",
       "  </tbody>\n",
       "</table>\n",
       "</div>"
      ],
      "text/plain": [
       "          term       sim\n",
       "0          use  0.991016\n",
       "1         site  0.989835\n",
       "2  information  0.987346\n",
       "3      website  0.987052\n",
       "4          web  0.986639"
      ]
     },
     "execution_count": 14,
     "metadata": {},
     "output_type": "execute_result"
    }
   ],
   "source": [
    "complete_analogy('metal', 'machines', 'cookies', rowling_model, 5)"
   ]
  },
  {
   "cell_type": "code",
   "execution_count": 33,
   "metadata": {},
   "outputs": [],
   "source": [
    "# complete_analogy('WORD1', 'WORD2', 'WORD3', rowling_model, 5)"
   ]
  },
  {
   "cell_type": "code",
   "execution_count": 42,
   "metadata": {},
   "outputs": [
    {
     "data": {
      "text/html": [
       "<div>\n",
       "<style scoped>\n",
       "    .dataframe tbody tr th:only-of-type {\n",
       "        vertical-align: middle;\n",
       "    }\n",
       "\n",
       "    .dataframe tbody tr th {\n",
       "        vertical-align: top;\n",
       "    }\n",
       "\n",
       "    .dataframe thead th {\n",
       "        text-align: right;\n",
       "    }\n",
       "</style>\n",
       "<table border=\"1\" class=\"dataframe\">\n",
       "  <thead>\n",
       "    <tr style=\"text-align: right;\">\n",
       "      <th></th>\n",
       "      <th>term</th>\n",
       "      <th>sim</th>\n",
       "    </tr>\n",
       "  </thead>\n",
       "  <tbody>\n",
       "    <tr>\n",
       "      <th>0</th>\n",
       "      <td>cast</td>\n",
       "      <td>0.998325</td>\n",
       "    </tr>\n",
       "    <tr>\n",
       "      <th>1</th>\n",
       "      <td>mold</td>\n",
       "      <td>0.998114</td>\n",
       "    </tr>\n",
       "    <tr>\n",
       "      <th>2</th>\n",
       "      <td>process</td>\n",
       "      <td>0.997893</td>\n",
       "    </tr>\n",
       "    <tr>\n",
       "      <th>3</th>\n",
       "      <td>molding</td>\n",
       "      <td>0.997855</td>\n",
       "    </tr>\n",
       "    <tr>\n",
       "      <th>4</th>\n",
       "      <td>metal</td>\n",
       "      <td>0.997711</td>\n",
       "    </tr>\n",
       "    <tr>\n",
       "      <th>5</th>\n",
       "      <td>core</td>\n",
       "      <td>0.997698</td>\n",
       "    </tr>\n",
       "    <tr>\n",
       "      <th>6</th>\n",
       "      <td>machines</td>\n",
       "      <td>0.997623</td>\n",
       "    </tr>\n",
       "    <tr>\n",
       "      <th>7</th>\n",
       "      <td>pressure</td>\n",
       "      <td>0.997437</td>\n",
       "    </tr>\n",
       "    <tr>\n",
       "      <th>8</th>\n",
       "      <td>casting</td>\n",
       "      <td>0.997353</td>\n",
       "    </tr>\n",
       "    <tr>\n",
       "      <th>9</th>\n",
       "      <td>parts</td>\n",
       "      <td>0.997297</td>\n",
       "    </tr>\n",
       "  </tbody>\n",
       "</table>\n",
       "</div>"
      ],
      "text/plain": [
       "       term       sim\n",
       "0      cast  0.998325\n",
       "1      mold  0.998114\n",
       "2   process  0.997893\n",
       "3   molding  0.997855\n",
       "4     metal  0.997711\n",
       "5      core  0.997698\n",
       "6  machines  0.997623\n",
       "7  pressure  0.997437\n",
       "8   casting  0.997353\n",
       "9     parts  0.997297"
      ]
     },
     "execution_count": 42,
     "metadata": {},
     "output_type": "execute_result"
    }
   ],
   "source": [
    "get_most_similar('castings', rowling_model)"
   ]
  },
  {
   "cell_type": "code",
   "execution_count": 53,
   "metadata": {},
   "outputs": [
    {
     "data": {
      "text/html": [
       "<div>\n",
       "<style scoped>\n",
       "    .dataframe tbody tr th:only-of-type {\n",
       "        vertical-align: middle;\n",
       "    }\n",
       "\n",
       "    .dataframe tbody tr th {\n",
       "        vertical-align: top;\n",
       "    }\n",
       "\n",
       "    .dataframe thead th {\n",
       "        text-align: right;\n",
       "    }\n",
       "</style>\n",
       "<table border=\"1\" class=\"dataframe\">\n",
       "  <thead>\n",
       "    <tr style=\"text-align: right;\">\n",
       "      <th></th>\n",
       "      <th>term</th>\n",
       "      <th>sim</th>\n",
       "    </tr>\n",
       "  </thead>\n",
       "  <tbody>\n",
       "    <tr>\n",
       "      <th>0</th>\n",
       "      <td>use</td>\n",
       "      <td>0.994904</td>\n",
       "    </tr>\n",
       "    <tr>\n",
       "      <th>1</th>\n",
       "      <td>site</td>\n",
       "      <td>0.991266</td>\n",
       "    </tr>\n",
       "    <tr>\n",
       "      <th>2</th>\n",
       "      <td>data</td>\n",
       "      <td>0.990709</td>\n",
       "    </tr>\n",
       "    <tr>\n",
       "      <th>3</th>\n",
       "      <td>web</td>\n",
       "      <td>0.990343</td>\n",
       "    </tr>\n",
       "    <tr>\n",
       "      <th>4</th>\n",
       "      <td>website</td>\n",
       "      <td>0.989468</td>\n",
       "    </tr>\n",
       "    <tr>\n",
       "      <th>5</th>\n",
       "      <td>information</td>\n",
       "      <td>0.988451</td>\n",
       "    </tr>\n",
       "    <tr>\n",
       "      <th>6</th>\n",
       "      <td>terms</td>\n",
       "      <td>0.985402</td>\n",
       "    </tr>\n",
       "    <tr>\n",
       "      <th>7</th>\n",
       "      <td>privacy</td>\n",
       "      <td>0.980779</td>\n",
       "    </tr>\n",
       "    <tr>\n",
       "      <th>8</th>\n",
       "      <td>learn</td>\n",
       "      <td>0.971127</td>\n",
       "    </tr>\n",
       "    <tr>\n",
       "      <th>9</th>\n",
       "      <td>policy</td>\n",
       "      <td>0.965286</td>\n",
       "    </tr>\n",
       "  </tbody>\n",
       "</table>\n",
       "</div>"
      ],
      "text/plain": [
       "          term       sim\n",
       "0          use  0.994904\n",
       "1         site  0.991266\n",
       "2         data  0.990709\n",
       "3          web  0.990343\n",
       "4      website  0.989468\n",
       "5  information  0.988451\n",
       "6        terms  0.985402\n",
       "7      privacy  0.980779\n",
       "8        learn  0.971127\n",
       "9       policy  0.965286"
      ]
     },
     "execution_count": 53,
     "metadata": {},
     "output_type": "execute_result"
    }
   ],
   "source": [
    "get_most_similar('cookies', rowling_model)"
   ]
  },
  {
   "cell_type": "code",
   "execution_count": 54,
   "metadata": {},
   "outputs": [
    {
     "data": {
      "text/html": [
       "<div>\n",
       "<style scoped>\n",
       "    .dataframe tbody tr th:only-of-type {\n",
       "        vertical-align: middle;\n",
       "    }\n",
       "\n",
       "    .dataframe tbody tr th {\n",
       "        vertical-align: top;\n",
       "    }\n",
       "\n",
       "    .dataframe thead th {\n",
       "        text-align: right;\n",
       "    }\n",
       "</style>\n",
       "<table border=\"1\" class=\"dataframe\">\n",
       "  <thead>\n",
       "    <tr style=\"text-align: right;\">\n",
       "      <th></th>\n",
       "      <th>term</th>\n",
       "      <th>sim</th>\n",
       "    </tr>\n",
       "  </thead>\n",
       "  <tbody>\n",
       "    <tr>\n",
       "      <th>0</th>\n",
       "      <td>please</td>\n",
       "      <td>0.996926</td>\n",
       "    </tr>\n",
       "    <tr>\n",
       "      <th>1</th>\n",
       "      <td>rights</td>\n",
       "      <td>0.996710</td>\n",
       "    </tr>\n",
       "    <tr>\n",
       "      <th>2</th>\n",
       "      <td>privacy</td>\n",
       "      <td>0.996010</td>\n",
       "    </tr>\n",
       "    <tr>\n",
       "      <th>3</th>\n",
       "      <td>service</td>\n",
       "      <td>0.995854</td>\n",
       "    </tr>\n",
       "    <tr>\n",
       "      <th>4</th>\n",
       "      <td>services</td>\n",
       "      <td>0.995512</td>\n",
       "    </tr>\n",
       "    <tr>\n",
       "      <th>5</th>\n",
       "      <td>info</td>\n",
       "      <td>0.995430</td>\n",
       "    </tr>\n",
       "    <tr>\n",
       "      <th>6</th>\n",
       "      <td>links</td>\n",
       "      <td>0.995226</td>\n",
       "    </tr>\n",
       "    <tr>\n",
       "      <th>7</th>\n",
       "      <td>learn</td>\n",
       "      <td>0.994923</td>\n",
       "    </tr>\n",
       "    <tr>\n",
       "      <th>8</th>\n",
       "      <td>form</td>\n",
       "      <td>0.994366</td>\n",
       "    </tr>\n",
       "    <tr>\n",
       "      <th>9</th>\n",
       "      <td>contact</td>\n",
       "      <td>0.993916</td>\n",
       "    </tr>\n",
       "  </tbody>\n",
       "</table>\n",
       "</div>"
      ],
      "text/plain": [
       "       term       sim\n",
       "0    please  0.996926\n",
       "1    rights  0.996710\n",
       "2   privacy  0.996010\n",
       "3   service  0.995854\n",
       "4  services  0.995512\n",
       "5      info  0.995430\n",
       "6     links  0.995226\n",
       "7     learn  0.994923\n",
       "8      form  0.994366\n",
       "9   contact  0.993916"
      ]
     },
     "execution_count": 54,
     "metadata": {},
     "output_type": "execute_result"
    }
   ],
   "source": [
    "get_most_similar('policy', rowling_model)"
   ]
  },
  {
   "cell_type": "code",
   "execution_count": null,
   "metadata": {},
   "outputs": [],
   "source": []
  }
 ],
 "metadata": {
  "kernelspec": {
   "display_name": "base",
   "language": "python",
   "name": "python3"
  },
  "language_info": {
   "codemirror_mode": {
    "name": "ipython",
    "version": 3
   },
   "file_extension": ".py",
   "mimetype": "text/x-python",
   "name": "python",
   "nbconvert_exporter": "python",
   "pygments_lexer": "ipython3",
   "version": "3.9.15"
  },
  "orig_nbformat": 4
 },
 "nbformat": 4,
 "nbformat_minor": 2
}
