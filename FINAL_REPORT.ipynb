{
 "cells": [
  {
   "attachments": {},
   "cell_type": "markdown",
   "metadata": {},
   "source": [
    "# Final Project Report\n",
    "## Josh Gen, jdg9vr"
   ]
  },
  {
   "attachments": {},
   "cell_type": "markdown",
   "metadata": {},
   "source": [
    "# Introduction"
   ]
  },
  {
   "attachments": {},
   "cell_type": "markdown",
   "metadata": {},
   "source": [
    "This project is an extension of my Capstone Project, in which we use text data scraped from company websites in the magnetics industry to determine similarity to a target company. This is a small subset of our much larger scraped data for Capstone Project. For our corpus, each document is a company, and these documents are subsetted by the actual link the text was scraped from (different links for different pages of the same website). These links can be further subsetted by sentences, but I chose to leave only two substructures for our data. The data is anonymized as well. \n",
    "\n",
    "Due to the anonymization, it is difficult to discover true trends from the underlying data, but I hope to analyze trends across the dataset as a whole. For example, which of the companies are most and least related? What are the differing contents across these websites? What emotions do the creators of the websites attempt to evoke with the websites?"
   ]
  },
  {
   "attachments": {},
   "cell_type": "markdown",
   "metadata": {},
   "source": [
    "# Source Data"
   ]
  },
  {
   "cell_type": "markdown",
   "metadata": {},
   "source": []
  },
  {
   "attachments": {},
   "cell_type": "markdown",
   "metadata": {},
   "source": [
    "# Data Model"
   ]
  },
  {
   "cell_type": "markdown",
   "metadata": {},
   "source": []
  },
  {
   "attachments": {},
   "cell_type": "markdown",
   "metadata": {},
   "source": [
    "# Exploration"
   ]
  },
  {
   "cell_type": "markdown",
   "metadata": {},
   "source": []
  },
  {
   "attachments": {},
   "cell_type": "markdown",
   "metadata": {},
   "source": [
    "# Interpretation"
   ]
  },
  {
   "cell_type": "markdown",
   "metadata": {},
   "source": []
  }
 ],
 "metadata": {
  "language_info": {
   "name": "python"
  },
  "orig_nbformat": 4
 },
 "nbformat": 4,
 "nbformat_minor": 2
}
