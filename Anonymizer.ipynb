{
 "cells": [
  {
   "attachments": {},
   "cell_type": "markdown",
   "metadata": {},
   "source": [
    "# ANONYMIZER NOTEBOOK\n",
    "\n",
    "#### Josh Gen (jdg9vr@virginia.edu) DS 5001 Spring 2023"
   ]
  },
  {
   "cell_type": "code",
   "execution_count": 1,
   "metadata": {},
   "outputs": [],
   "source": [
    "import pandas as pd\n",
    "import hashlib"
   ]
  },
  {
   "cell_type": "code",
   "execution_count": 2,
   "metadata": {},
   "outputs": [],
   "source": [
    "df = pd.read_csv(\"englishdata.csv\", lineterminator='\\n')"
   ]
  },
  {
   "cell_type": "code",
   "execution_count": 3,
   "metadata": {},
   "outputs": [
    {
     "data": {
      "text/html": [
       "<div>\n",
       "<style scoped>\n",
       "    .dataframe tbody tr th:only-of-type {\n",
       "        vertical-align: middle;\n",
       "    }\n",
       "\n",
       "    .dataframe tbody tr th {\n",
       "        vertical-align: top;\n",
       "    }\n",
       "\n",
       "    .dataframe thead th {\n",
       "        text-align: right;\n",
       "    }\n",
       "</style>\n",
       "<table border=\"1\" class=\"dataframe\">\n",
       "  <thead>\n",
       "    <tr style=\"text-align: right;\">\n",
       "      <th></th>\n",
       "      <th>company_num</th>\n",
       "      <th>Text</th>\n",
       "      <th>characters</th>\n",
       "    </tr>\n",
       "  </thead>\n",
       "  <tbody>\n",
       "    <tr>\n",
       "      <th>0</th>\n",
       "      <td>0</td>\n",
       "      <td>Ahresty, with more than 60 years of experienc...</td>\n",
       "      <td>1709</td>\n",
       "    </tr>\n",
       "    <tr>\n",
       "      <th>1</th>\n",
       "      <td>0</td>\n",
       "      <td>PRODUCTS Ahresty, with more than 60 years of e...</td>\n",
       "      <td>754</td>\n",
       "    </tr>\n",
       "    <tr>\n",
       "      <th>2</th>\n",
       "      <td>0</td>\n",
       "      <td>ENVIRONMENTAL</td>\n",
       "      <td>16</td>\n",
       "    </tr>\n",
       "    <tr>\n",
       "      <th>3</th>\n",
       "      <td>0</td>\n",
       "      <td>CONTACT Address Ahresty Wilmington Corporation...</td>\n",
       "      <td>439</td>\n",
       "    </tr>\n",
       "    <tr>\n",
       "      <th>4</th>\n",
       "      <td>1</td>\n",
       "      <td>Manufacturer ofMetal FastenersandGeneral Hardw...</td>\n",
       "      <td>1025</td>\n",
       "    </tr>\n",
       "    <tr>\n",
       "      <th>...</th>\n",
       "      <td>...</td>\n",
       "      <td>...</td>\n",
       "      <td>...</td>\n",
       "    </tr>\n",
       "    <tr>\n",
       "      <th>90628</th>\n",
       "      <td>1225</td>\n",
       "      <td>Home•Careers Together, we build the future We...</td>\n",
       "      <td>2524</td>\n",
       "    </tr>\n",
       "    <tr>\n",
       "      <th>90629</th>\n",
       "      <td>1225</td>\n",
       "      <td>Privacy The protection of your personal data i...</td>\n",
       "      <td>12706</td>\n",
       "    </tr>\n",
       "    <tr>\n",
       "      <th>90630</th>\n",
       "      <td>1225</td>\n",
       "      <td>Signicast acquires European based CIREX 02.15....</td>\n",
       "      <td>5160</td>\n",
       "    </tr>\n",
       "    <tr>\n",
       "      <th>90631</th>\n",
       "      <td>1225</td>\n",
       "      <td>Email Protection You are unable to access this...</td>\n",
       "      <td>558</td>\n",
       "    </tr>\n",
       "    <tr>\n",
       "      <th>90632</th>\n",
       "      <td>1225</td>\n",
       "      <td>Form Technologies Named to 2018 Grant Thornton...</td>\n",
       "      <td>1589</td>\n",
       "    </tr>\n",
       "  </tbody>\n",
       "</table>\n",
       "<p>90633 rows × 3 columns</p>\n",
       "</div>"
      ],
      "text/plain": [
       "       company_num                                               Text  \\\n",
       "0                0   Ahresty, with more than 60 years of experienc...   \n",
       "1                0  PRODUCTS Ahresty, with more than 60 years of e...   \n",
       "2                0                                   ENVIRONMENTAL      \n",
       "3                0  CONTACT Address Ahresty Wilmington Corporation...   \n",
       "4                1  Manufacturer ofMetal FastenersandGeneral Hardw...   \n",
       "...            ...                                                ...   \n",
       "90628         1225   Home•Careers Together, we build the future We...   \n",
       "90629         1225  Privacy The protection of your personal data i...   \n",
       "90630         1225  Signicast acquires European based CIREX 02.15....   \n",
       "90631         1225  Email Protection You are unable to access this...   \n",
       "90632         1225  Form Technologies Named to 2018 Grant Thornton...   \n",
       "\n",
       "       characters  \n",
       "0            1709  \n",
       "1             754  \n",
       "2              16  \n",
       "3             439  \n",
       "4            1025  \n",
       "...           ...  \n",
       "90628        2524  \n",
       "90629       12706  \n",
       "90630        5160  \n",
       "90631         558  \n",
       "90632        1589  \n",
       "\n",
       "[90633 rows x 3 columns]"
      ]
     },
     "execution_count": 3,
     "metadata": {},
     "output_type": "execute_result"
    }
   ],
   "source": [
    "# Create DataFrame to store original and anonymized names\n",
    "name_mapping = df['Company_Name'].drop_duplicates().reset_index(drop=True)\n",
    "name_mapping = pd.DataFrame({\n",
    "    'Company_Name': name_mapping,\n",
    "    'company_num': range(len(name_mapping))\n",
    "})\n",
    "\n",
    "# Join anonymized codes to original DataFrame\n",
    "df = pd.merge(df, name_mapping, on='Company_Name')\n",
    "\n",
    "data = df[[\"company_num\",\"Text\", \"characters\"]]\n",
    "data"
   ]
  },
  {
   "cell_type": "code",
   "execution_count": 4,
   "metadata": {},
   "outputs": [],
   "source": [
    "data.to_csv(\"CORPUS.csv\", index = False)"
   ]
  },
  {
   "cell_type": "code",
   "execution_count": 5,
   "metadata": {},
   "outputs": [],
   "source": [
    "import gzip\n",
    "import shutil\n",
    "\n",
    "# Compress CSV file\n",
    "with open('CORPUS.csv', 'rb') as f_in:\n",
    "    with gzip.open('CORPUS.tar.gz', 'wb') as f_out:\n",
    "        shutil.copyfileobj(f_in, f_out)"
   ]
  }
 ],
 "metadata": {
  "kernelspec": {
   "display_name": "Python 3",
   "language": "python",
   "name": "python3"
  },
  "language_info": {
   "codemirror_mode": {
    "name": "ipython",
    "version": 3
   },
   "file_extension": ".py",
   "mimetype": "text/x-python",
   "name": "python",
   "nbconvert_exporter": "python",
   "pygments_lexer": "ipython3",
   "version": "3.8.8"
  }
 },
 "nbformat": 4,
 "nbformat_minor": 4
}
